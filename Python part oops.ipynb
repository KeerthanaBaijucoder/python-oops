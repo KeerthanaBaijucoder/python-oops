{
 "cells": [
  {
   "cell_type": "code",
   "execution_count": null,
   "id": "9ac9020f-8d84-4177-b1f8-0534b73b81b8",
   "metadata": {},
   "outputs": [],
   "source": [
    "Question 1"
   ]
  },
  {
   "cell_type": "code",
   "execution_count": 8,
   "id": "9e38a429-ffb6-4b89-8ab9-bd47b0a46778",
   "metadata": {},
   "outputs": [
    {
     "name": "stdout",
     "output_type": "stream",
     "text": [
      "Core Course:\n",
      "Code: CS101\n",
      "Name: Introduction to Computer Science\n",
      "Credits: 3\n",
      "Required for Major: True\n",
      "\n",
      "Elective Course:\n",
      "Code: CS102\n",
      "Name: Game Development\n",
      "Credits: 3\n",
      "Elective Type: technical\n"
     ]
    }
   ],
   "source": [
    "class Course:\n",
    "    def __init__(self, code, name, hours):\n",
    "        self.course_code = code\n",
    "        self.course_name = name\n",
    "        self.credit_hours = hours\n",
    "\n",
    "class CoreCourse(Course):\n",
    "    def __init__(self, code, name, hours, required):\n",
    "        super().__init__(code, name, hours)\n",
    "        self.required_for_major = required\n",
    "\n",
    "class ElectiveCourse(Course):\n",
    "    def __init__(self, code, name, hours, elective_type):\n",
    "        super().__init__(code, name, hours)\n",
    "        self.elective_type = elective_type\n",
    "\n",
    "\n",
    "core = CoreCourse(\"CS101\", \"Introduction to Computer Science\", 3, True)\n",
    "elective = ElectiveCourse(\"CS102\", \"Game Development\", 3, \"technical\")\n",
    "\n",
    "print(\"Core Course:\")\n",
    "print(\"Code:\", core.course_code)\n",
    "print(\"Name:\", core.course_name)\n",
    "print(\"Credits:\", core.credit_hours)\n",
    "print(\"Required for Major:\", core.required_for_major)\n",
    "\n",
    "print(\"\\nElective Course:\")\n",
    "print(\"Code:\", elective.course_code)\n",
    "print(\"Name:\", elective.course_name)\n",
    "print(\"Credits:\", elective.credit_hours)\n",
    "print(\"Elective Type:\", elective.elective_type)\n",
    "\n"
   ]
  },
  {
   "cell_type": "code",
   "execution_count": null,
   "id": "57354895-1443-49d4-b754-633fe0088084",
   "metadata": {},
   "outputs": [],
   "source": [
    "Question 2"
   ]
  },
  {
   "cell_type": "code",
   "execution_count": null,
   "id": "57fc1362-0d4c-4a95-abcd-9a08764be52d",
   "metadata": {},
   "outputs": [],
   "source": [
    "import importlib\n",
    "import employee\n",
    "importlib.reload(employee)\n",
    "from employee import Employee\n",
    "\n",
    "emp=Employee(\"Aswin\",50000)\n",
    "print(\"Employee Name:\",emp.get_name())\n",
    "print(\"Employee Salary:\",emp.get_salary())"
   ]
  },
  {
   "cell_type": "code",
   "execution_count": null,
   "id": "48a2fa37-68eb-427d-a808-cf4711446a18",
   "metadata": {},
   "outputs": [],
   "source": []
  }
 ],
 "metadata": {
  "kernelspec": {
   "display_name": "Python [conda env:base] *",
   "language": "python",
   "name": "conda-base-py"
  },
  "language_info": {
   "codemirror_mode": {
    "name": "ipython",
    "version": 3
   },
   "file_extension": ".py",
   "mimetype": "text/x-python",
   "name": "python",
   "nbconvert_exporter": "python",
   "pygments_lexer": "ipython3",
   "version": "3.12.7"
  }
 },
 "nbformat": 4,
 "nbformat_minor": 5
}
